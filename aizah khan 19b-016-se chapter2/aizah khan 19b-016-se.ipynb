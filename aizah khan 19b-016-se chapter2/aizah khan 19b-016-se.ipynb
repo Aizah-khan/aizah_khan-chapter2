{
 "cells": [
  {
   "cell_type": "code",
   "execution_count": 1,
   "metadata": {},
   "outputs": [
    {
     "name": "stdout",
     "output_type": "stream",
     "text": [
      "1: 15\n",
      "2: 24.333333333333332\n",
      "3: 5\n",
      "4: 38\n",
      "5: 1024\n",
      "6: 3\n",
      "7: 29.95\n"
     ]
    }
   ],
   "source": [
    "#exercise 2.1\n",
    "#the sum of first five positive integer\n",
    "a= 1 + 2 + 3 + 4 + 5\n",
    "#the average age of sara mark and fatima\n",
    "b= (23 + 19 + 31) / 3\n",
    "#the number of times 73 goes into 403\n",
    "c= 403 // 73\n",
    "#the remainder when 403 was divided by 73\n",
    "d= 403 % 73\n",
    "#2 to the 10th power\n",
    "e= 2**10\n",
    "#The absolute value of the diﬀerence between Sara’s height (54 inches) and Mark’s height(57inches) \n",
    "f= abs(54 - 57)\n",
    "#The lowest pric eamong the following prices :$34.99,$29.95,and$31.50\n",
    "g= min(34.99, 29.95, 31.50)\n",
    "\n",
    "print(\"1:\", a)\n",
    "print(\"2:\", b)\n",
    "print(\"3:\", c)\n",
    "print(\"4:\", d)\n",
    "print(\"5:\", e)\n",
    "print(\"6:\", f)\n",
    "print(\"7:\", g)"
   ]
  },
  {
   "cell_type": "code",
   "execution_count": 2,
   "metadata": {},
   "outputs": [
    {
     "name": "stdout",
     "output_type": "stream",
     "text": [
      "1: False\n",
      "2: True\n",
      "3: True\n",
      "4: False\n",
      "5: True\n",
      "6: False\n",
      "7: True\n"
     ]
    }
   ],
   "source": [
    "#exercise 2.2\n",
    "# The sum of 2 and 2 i sless than 4.\n",
    "a= 2 + 2 < 4 \n",
    "# The value of 7 // 3isequalto1 + 1.\n",
    "b= 7 // 3 == 1 + 1 \n",
    "# The sum of 3 squared and 4 squared is equal to 25\n",
    "c= 3**2 + 4**2 == 25 \n",
    "#) The sum of 2,4, and 6 is greater than 12. \n",
    "d= 2 + 4 + 6 > 12 \n",
    "#1387 is divisibl eby 19. \n",
    "e= 1387 % 19 == 0 \n",
    "# 31 is even.(Hint:whatdoestheremainderwhenyoudivideby2tellyou?)\n",
    "f= 31 % 2 == 0 \n",
    "# The lowest pric eamong$34.99,$29.95,and$31.50 is less than $30.00.\n",
    "g= min(34.99, 29.95, 31.50) < 30.00 \n",
    "\n",
    "print(\"1:\", a)\n",
    "print(\"2:\", b)\n",
    "print(\"3:\", c)\n",
    "print(\"4:\", d)\n",
    "print(\"5:\", e)\n",
    "print(\"6:\", f)\n",
    "print(\"7:\", g)"
   ]
  },
  {
   "cell_type": "code",
   "execution_count": 3,
   "metadata": {},
   "outputs": [
    {
     "name": "stdout",
     "output_type": "stream",
     "text": [
      "1: 3\n",
      "2: 4\n",
      "3: 25\n"
     ]
    }
   ],
   "source": [
    "#exercise 2.3\n",
    "# Assign integer value 3 to variable a. \n",
    ">>> a = 3\n",
    "#Assign 4 to variable b. \n",
    ">>> b = 4\n",
    "# Assign to variable c the value of expression a * a + b * b.\n",
    ">>> c = a * a + b * b \n",
    "print(\"1:\", a)\n",
    "print(\"2:\", b)\n",
    "print(\"3:\", c)"
   ]
  },
  {
   "cell_type": "code",
   "execution_count": 10,
   "metadata": {},
   "outputs": [
    {
     "name": "stdout",
     "output_type": "stream",
     "text": [
      "1:  ant  bat  cod \n",
      "2:  ant  ant  ant  ant  ant  ant  ant  ant  ant  ant \n",
      "3:  ant  bat  bat  cod  cod  cod \n",
      "4:  ant  bat  ant  bat  ant  bat  ant  bat  ant  bat  ant  bat  ant  bat \n",
      "5:  bat  bat  cod  bat  bat  cod  bat  bat  cod \n"
     ]
    }
   ],
   "source": [
    "#exercise 2.4\n",
    "#WritePythonexpressionsusings1,s2,ands3andoperators+and*thatevaluateto:\n",
    "#(a) 'ant bat cod'\n",
    "#(b) 'ant ant ant ant ant ant ant ant ant ant '\n",
    "#(c) 'ant bat bat cod cod cod' \n",
    "#(d) 'ant bat ant bat ant bat ant bat ant bat ant bat ant bat '\n",
    "#(e) 'batbatcod batbatcod batbatcod batbatcod batbatcod '\n",
    "\n",
    "s1= (\" ant \") \n",
    "s2= (\" bat \")\n",
    "s3= (\" cod \")\n",
    "a= s1 + ''+ s2 + ''+ s3\n",
    "b= 10 * (s1 + '')\n",
    "c= s1 + '' + 2 * (s2 + '') + 2 * (s3 + '') + s3\n",
    "d= 7 * (s1 + ''+ s2 + '')\n",
    "e= 3 * (2 * s2 + s3 + '')\n",
    "print(\"1:\", a)\n",
    "print(\"2:\", b)\n",
    "print(\"3:\", c)\n",
    "print(\"4:\", d)\n",
    "print(\"5:\", e)"
   ]
  },
  {
   "cell_type": "code",
   "execution_count": 13,
   "metadata": {},
   "outputs": [
    {
     "name": "stdout",
     "output_type": "stream",
     "text": [
      "a [0]\n",
      "b [1]\n",
      "c [6]\n",
      "d [8]\n",
      "e [9]\n"
     ]
    }
   ],
   "source": [
    "#exercise 2.5\n",
    "#write expressions using strings and the indexing operator to evaluate\n",
    "s= '0123456789 '\n",
    "s=[0]\n",
    "print('a',s)\n",
    "s=[1]\n",
    "print('b',s)\n",
    "s=[6]\n",
    "print('c',s)\n",
    "s=[8]\n",
    "print('d',s)\n",
    "s=[9]\n",
    "print('e',s)"
   ]
  },
  {
   "cell_type": "code",
   "execution_count": 6,
   "metadata": {},
   "outputs": [
    {
     "name": "stdout",
     "output_type": "stream",
     "text": [
      "s2 has max words\n"
     ]
    }
   ],
   "source": [
    "#exercise 2.6\n",
    "s1= ' Jasmine is a white flower'\n",
    "s2= ' Rose has a strong fragrance '\n",
    "s3= ' Lotus is a water plant'\n",
    "if len(s2)>len(s2)>len(s3): \n",
    "    print(\"S1 has max words\") \n",
    "else: print (\"s2 has max words\")"
   ]
  },
  {
   "cell_type": "code",
   "execution_count": 7,
   "metadata": {},
   "outputs": [
    {
     "name": "stdout",
     "output_type": "stream",
     "text": [
      "1: 0\n",
      "2: 4\n",
      "3: [4, 7, 11, 32, 32, 45, 53, 55, 60, 67, 89]\n",
      "4: None\n",
      "5: 41.36363636363637\n"
     ]
    }
   ],
   "source": [
    "#exercise 2.7\n",
    "grades= [45, 32, 11, 32, 67, 89, 55, 7, 53, 60, 34]\n",
    "a= grades.count(20)\n",
    "b= grades[-1] = 4\n",
    "c= max([grades])\n",
    "d= grades.sort()\n",
    "e= sum(grades) / len(grades)\n",
    "\n",
    "print(\"1:\", a)\n",
    "print(\"2:\", b)\n",
    "print(\"3:\", c)\n",
    "print(\"4:\", d)\n",
    "print(\"5:\", e)"
   ]
  },
  {
   "cell_type": "code",
   "execution_count": 1,
   "metadata": {},
   "outputs": [
    {
     "data": {
      "text/plain": [
       "False"
      ]
     },
     "execution_count": 1,
     "metadata": {},
     "output_type": "execute_result"
    }
   ],
   "source": [
    "#exercise 2.8\n",
    "#In what order are the operators in the following expressions evaluated? \n",
    "(a) 2 + 3 == 4 or a >= 5 \n",
    "x=4\n",
    "((3 + 3) == 4) or (x >= 5)\n",
    "\n"
   ]
  },
  {
   "cell_type": "code",
   "execution_count": 10,
   "metadata": {},
   "outputs": [
    {
     "data": {
      "text/plain": [
       "False"
      ]
     },
     "execution_count": 10,
     "metadata": {},
     "output_type": "execute_result"
    }
   ],
   "source": [
    "#(b) lst[1] * -3 < -10 == 0  \n",
    "(c) (lst[1] * -3 < -10) in [0, True] (d) 2 * 3**2 (e) 4 / 2 in [1, 2, 3]\n",
    "lst= [3,6,7,8,1,2,77,43,100,45,23,56]\n",
    "(((lst[1]) * (-3)) < (-10)) == 0\n"
   ]
  },
  {
   "cell_type": "code",
   "execution_count": 11,
   "metadata": {},
   "outputs": [
    {
     "data": {
      "text/plain": [
       "True"
      ]
     },
     "execution_count": 11,
     "metadata": {},
     "output_type": "execute_result"
    }
   ],
   "source": [
    "#(c) (lst[1] * -3 < -10) in [0, True]\n",
    "lst= [3,6,7,8,1,2,77,43,100,45,23,56]\n",
    "(((lst[1]) * (-3)) < (-10)) in [0, True]"
   ]
  },
  {
   "cell_type": "code",
   "execution_count": 15,
   "metadata": {},
   "outputs": [
    {
     "name": "stdout",
     "output_type": "stream",
     "text": [
      "<class 'int'>\n",
      "<class 'float'>\n",
      "<class 'int'>\n",
      "<class 'bool'>\n"
     ]
    }
   ],
   "source": [
    "#exercise 2.9\n",
    "#What is the type of th eobject that these expressions evaluate to? \n",
    "#(a) False + False\n",
    "#(b) 2 * 3**2.0 \n",
    "#(c) 4 // 2 + 4 % 2 \n",
    "#(d) 2 + 3 == 4 or 5 >= 5\n",
    "a=type (False + False)\n",
    "print (a)\n",
    "b=type (2 * 3**2.0)\n",
    "print(b)\n",
    "c=type ( 4 // 2 + 4 % 2 )\n",
    "print(c)\n",
    "d=type( 2 + 3 == 4 or 5 >= 5)\n",
    "print(d)"
   ]
  },
  {
   "cell_type": "code",
   "execution_count": 17,
   "metadata": {},
   "outputs": [
    {
     "ename": "SyntaxError",
     "evalue": "invalid syntax (<ipython-input-17-0cde5c56ce72>, line 7)",
     "output_type": "error",
     "traceback": [
      "\u001b[1;36m  File \u001b[1;32m\"<ipython-input-17-0cde5c56ce72>\"\u001b[1;36m, line \u001b[1;32m7\u001b[0m\n\u001b[1;33m    (a) math.sqrt(a**2 + b**2)\u001b[0m\n\u001b[1;37m           ^\u001b[0m\n\u001b[1;31mSyntaxError\u001b[0m\u001b[1;31m:\u001b[0m invalid syntax\n"
     ]
    }
   ],
   "source": [
    "#exercise 2.10\n",
    "#Write Python expressions corresponding to the following:\n",
    "#(a) The length of the hypotenuse in a right triangle whose other two sides have lengths a and b \n",
    "#(b) The value of the expression that evaluates whether the length of the above hypotenuse is 5 \n",
    "#(c) The area of a disk of radius a \n",
    "#(d) The value of the Boolean expression that checks whether a point with coordinates x and y is inside a circle with center (a,b) and radius r\n",
    "(a) math.sqrt(a**2 + b**2)\n",
    "(b) math.sqrt(a**2 + b**2) == 5 \n",
    "(c) math.pi * a**2\n",
    "(d) (x - a)**2 + (y - b)**2 < r**2\n",
    "\n"
   ]
  },
  {
   "cell_type": "code",
   "execution_count": 9,
   "metadata": {},
   "outputs": [
    {
     "name": "stdout",
     "output_type": "stream",
     "text": [
      "(a) -28\n"
     ]
    }
   ],
   "source": [
    "#exercise 2.11\n",
    "#(a)the sum of negative integer\n",
    "a = -1 + -2 + -3 + -4 + -5 + -6 + -7\n",
    "print ('(a)', a)\n"
   ]
  },
  {
   "cell_type": "code",
   "execution_count": 6,
   "metadata": {},
   "outputs": [
    {
     "name": "stdout",
     "output_type": "stream",
     "text": [
      "(d) 71\n"
     ]
    }
   ],
   "source": [
    "#(d) The number of times 61 goes into 4356.\n",
    "d = 4356//61\n",
    "print ('(d)', d)"
   ]
  },
  {
   "cell_type": "code",
   "execution_count": 7,
   "metadata": {},
   "outputs": [
    {
     "name": "stdout",
     "output_type": "stream",
     "text": [
      "(e) 25 \n",
      "\n"
     ]
    }
   ],
   "source": [
    "#(e) The remainder when 4356 is divided by 61.\n",
    "e = 4356%61\n",
    "print ('(e)', e , '\\n')"
   ]
  },
  {
   "cell_type": "code",
   "execution_count": 8,
   "metadata": {},
   "outputs": [
    {
     "name": "stdout",
     "output_type": "stream",
     "text": [
      "(c) 1048576\n"
     ]
    }
   ],
   "source": [
    "#(c) 2 to the 20th power.\n",
    "c = 2**20\n",
    "print ('(c)', c)"
   ]
  },
  {
   "cell_type": "code",
   "execution_count": 16,
   "metadata": {},
   "outputs": [
    {
     "name": "stdout",
     "output_type": "stream",
     "text": [
      "a c z y q\n"
     ]
    }
   ],
   "source": [
    "#exercise 2.13\n",
    "s = 'abcdefghijklmnopqrstuvwxyz'\n",
    "\n",
    "print(s[0]+\" \"+s[2]+\" \"+s[25]+\" \"+s[24]+\" \"+s[16])"
   ]
  },
  {
   "cell_type": "code",
   "execution_count": 25,
   "metadata": {},
   "outputs": [
    {
     "name": "stdout",
     "output_type": "stream",
     "text": [
      "True\n",
      "False\n",
      "g False a\n",
      "False\n",
      "True\n",
      "False\n"
     ]
    }
   ],
   "source": [
    "#exercise 2.14\n",
    "#s = 'goodbye'\n",
    "#Then write a Boolean expression that checks whether: \n",
    "#(a) The ﬁrst character of string s is 'g'\n",
    "#(b) The seventh character of s is 'g'\n",
    "#(c) The ﬁrst two characters of s are 'g' and 'a' \n",
    "#(d) The next to last character of s is 'x'  \n",
    "#(e) The middle character of s is 'd' (f) The ﬁrst and last characters of string s are equal \n",
    "#(g) The last four characters of strings match the string 'tion'\n",
    "\n",
    "s='goodbye' \n",
    "print(s[0]=='g')\n",
    "s='goodbye'\n",
    "print(s[6]=='g')\n",
    "s='goodbye'\n",
    "print(s[0],s[1]=='g','a')\n",
    "s='goodbye'\n",
    "print(s[5]=='x') \n",
    "s='goodbye'\n",
    "print(s[3]=='d')\n",
    "s='goodbye'\n",
    "print(s[0]==s[6])"
   ]
  },
  {
   "cell_type": "code",
   "execution_count": 29,
   "metadata": {},
   "outputs": [
    {
     "name": "stdout",
     "output_type": "stream",
     "text": [
      "a\n",
      "anachronistically\n",
      "c\n",
      "not found\n",
      "d\n",
      "not equal\n"
     ]
    }
   ],
   "source": [
    "#exercise 2.15\n",
    "#Write Python expressions corresponding to these statements: \n",
    "#(a) The number of characters in the word \"anachronistically\" is 1 more than the number of characters in the word “counterintuitive.\" \n",
    "#(b) The word \"misinterpretation\" appears earlier in the dictionary than the word \"misrepresentation.\"\n",
    "#(c) The letter \"e\" does not appear in the word \"ﬂoccinaucinihilipiliﬁcation.\" \n",
    "#(d) The number of characters in the word \"counterrevolution\" is equal to the sum of the number of characters in words \"counter\" and \"resolution.\"\n",
    "print(\"a\")\n",
    "first=len(\"avachronistically\")\n",
    "second=len(\"counterintuitive\")\n",
    "\n",
    "if first > second:\n",
    "    print(\"anachronistically\")\n",
    "else:\n",
    "    print(\"counterintuitive\")\n",
    "print(\"c\")\n",
    "chars=\"floccinaucinihilipilification\"\n",
    "find=\"e\"\n",
    "if find in chars:\n",
    "              print(\"found\")\n",
    "else:\n",
    "              print(\"not found\")\n",
    "print(\"d\")\n",
    "summ=len(\"counterevolution\")\n",
    "first=len(\"counter\")\n",
    "second=len(\"resolution\")\n",
    "tsum=first+second\n",
    "\n",
    "if sum == tsum:\n",
    "               print(\"yes they are equal\")\n",
    "else:\n",
    "               print(\"not equal\")"
   ]
  },
  {
   "cell_type": "code",
   "execution_count": 31,
   "metadata": {},
   "outputs": [
    {
     "name": "stdout",
     "output_type": "stream",
     "text": [
      "the height of ladder is -6.204506166550887\n"
     ]
    }
   ],
   "source": [
    "#exercise 2.27\n",
    "#a\n",
    "import math\n",
    "pi=3.142\n",
    "length=16\n",
    "angle=75\n",
    "radians=pi * angle /180\n",
    "height=math.sin(angle)*length\n",
    "print(\"the height of ladder is\", (height))"
   ]
  },
  {
   "cell_type": "code",
   "execution_count": 32,
   "metadata": {},
   "outputs": [
    {
     "name": "stdout",
     "output_type": "stream",
     "text": [
      "the height of ladder is 0.0\n"
     ]
    }
   ],
   "source": [
    "#b\n",
    "import math\n",
    "pi=3.142\n",
    "length=20\n",
    "angle=0\n",
    "radians=pi * angle /180\n",
    "height=math.sin(angle)*length\n",
    "print(\"the height of ladder is\", (height))"
   ]
  },
  {
   "cell_type": "code",
   "execution_count": 33,
   "metadata": {},
   "outputs": [
    {
     "name": "stdout",
     "output_type": "stream",
     "text": [
      "the height of the ladder is 20.42168458881884\n"
     ]
    }
   ],
   "source": [
    "#c\n",
    "import math\n",
    "pi=3.142\n",
    "length=24\n",
    "angle=45\n",
    "radian=pi * angle /180\n",
    "height=math.sin(angle)*length\n",
    "print(\"the height of the ladder is\" , (height))"
   ]
  },
  {
   "cell_type": "code",
   "execution_count": 34,
   "metadata": {},
   "outputs": [
    {
     "name": "stdout",
     "output_type": "stream",
     "text": [
      "the height of the ladder is -0.4678783741810467\n"
     ]
    }
   ],
   "source": [
    "#d\n",
    "import math\n",
    "pi=3.142\n",
    "length=24\n",
    "angle=80\n",
    "radian=pi * angle /180\n",
    "height=math.sin(angle*length)\n",
    "print(\"the height of the ladder is\" , (height))"
   ]
  },
  {
   "cell_type": "code",
   "execution_count": null,
   "metadata": {},
   "outputs": [],
   "source": []
  }
 ],
 "metadata": {
  "kernelspec": {
   "display_name": "Python 3",
   "language": "python",
   "name": "python3"
  },
  "language_info": {
   "codemirror_mode": {
    "name": "ipython",
    "version": 3
   },
   "file_extension": ".py",
   "mimetype": "text/x-python",
   "name": "python",
   "nbconvert_exporter": "python",
   "pygments_lexer": "ipython3",
   "version": "3.7.3"
  }
 },
 "nbformat": 4,
 "nbformat_minor": 2
}
